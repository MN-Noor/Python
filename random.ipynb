{
 "cells": [
  {
   "cell_type": "markdown",
   "id": "e61125e6",
   "metadata": {},
   "source": [
    "random numbers"
   ]
  },
  {
   "cell_type": "code",
   "execution_count": 15,
   "id": "56d1cc36",
   "metadata": {},
   "outputs": [
    {
     "name": "stdout",
     "output_type": "stream",
     "text": [
      "[56, 44, 75, 62, 66, 2, 62, 77, 96, 36, 21, 79, 97, 12, 7, 70, 99, 9, 37, 84]\n"
     ]
    }
   ],
   "source": [
    "import random as ran\n",
    "ls=[]\n",
    "for i in range(20):\n",
    "    rn=ran.randint(1,100)\n",
    "    ls.append(rn)\n",
    "print(ls)"
   ]
  },
  {
   "cell_type": "code",
   "execution_count": 16,
   "id": "f6156bce",
   "metadata": {},
   "outputs": [
    {
     "name": "stdout",
     "output_type": "stream",
     "text": [
      "13\n"
     ]
    }
   ],
   "source": [
    "#no of elements greater than 4o\n",
    "i=0\n",
    "for no in ls:\n",
    "    if no>40:\n",
    "        i+=1\n",
    "print(i)"
   ]
  },
  {
   "cell_type": "code",
   "execution_count": 17,
   "id": "83a36b6d",
   "metadata": {},
   "outputs": [
    {
     "name": "stdout",
     "output_type": "stream",
     "text": [
      "1091\n"
     ]
    }
   ],
   "source": [
    "#sum of list elements\n",
    "sum=0\n",
    "for i in ls:\n",
    "    sum+=i;\n",
    "print(sum)\n",
    "    "
   ]
  },
  {
   "cell_type": "code",
   "execution_count": 18,
   "id": "faa1894c",
   "metadata": {},
   "outputs": [
    {
     "name": "stdout",
     "output_type": "stream",
     "text": [
      "2\n"
     ]
    }
   ],
   "source": [
    "#minimum\n",
    "min=ls[0]\n",
    "for no in ls:\n",
    "    if no<min:\n",
    "        min=no\n",
    "print(min)"
   ]
  },
  {
   "cell_type": "code",
   "execution_count": 19,
   "id": "39c9e6ee",
   "metadata": {},
   "outputs": [
    {
     "name": "stdout",
     "output_type": "stream",
     "text": [
      "99\n"
     ]
    }
   ],
   "source": [
    "#maximum\n",
    "max=ls[0]\n",
    "for no in ls:\n",
    "    if no>max:\n",
    "        max=no\n",
    "print(max)\n",
    "    "
   ]
  },
  {
   "cell_type": "code",
   "execution_count": 24,
   "id": "30fa1067",
   "metadata": {},
   "outputs": [
    {
     "name": "stdout",
     "output_type": "stream",
     "text": [
      "54.55\n"
     ]
    }
   ],
   "source": [
    "#Average\n",
    "no_elements=len(ls)\n",
    "print(sum/no_elements)\n",
    "    "
   ]
  },
  {
   "cell_type": "code",
   "execution_count": 29,
   "id": "e1bd08a8",
   "metadata": {},
   "outputs": [
    {
     "name": "stdout",
     "output_type": "stream",
     "text": [
      "10\n",
      "int\n",
      "21\n",
      "28.5\n"
     ]
    }
   ],
   "source": [
    "#Median\n",
    "import math\n",
    "median_index=int(no_elements/2)\n",
    "if no_elements%2!=0:\n",
    "    index=math.floor(median_index)\n",
    "    print(ls[index])\n",
    "else:\n",
    "    median=(ls[median_index]+ls[median_index-1])/2\n",
    "    print(median)\n",
    "    \n"
   ]
  },
  {
   "cell_type": "code",
   "execution_count": 31,
   "id": "5ebda7b4",
   "metadata": {},
   "outputs": [
    {
     "name": "stdout",
     "output_type": "stream",
     "text": [
      "3\n"
     ]
    }
   ],
   "source": [
    "#no of common elements in two lists\n",
    "count=0\n",
    "ls2=[6,5,5,6,7,8,9,2,1,3,5,4]\n",
    "for no in ls:\n",
    "    if no in ls2:\n",
    "        count+=1\n",
    "print(count)\n",
    "        "
   ]
  },
  {
   "cell_type": "code",
   "execution_count": 46,
   "id": "1f820f58",
   "metadata": {},
   "outputs": [
    {
     "name": "stdout",
     "output_type": "stream",
     "text": [
      "palindrome\n"
     ]
    }
   ],
   "source": [
    "#palindrome\n",
    "p=0\n",
    "string=\"aassddssaa\"\n",
    "i=len(string)\n",
    "for no in range(int(i/2)):\n",
    "    i-=1\n",
    "    if string[no]!=string[i]:\n",
    "        p=1\n",
    "        break;\n",
    "if p==0:\n",
    "    print(\"palindrome\")\n",
    "else:\n",
    "    print(\"not a palindrome\")\n"
   ]
  },
  {
   "cell_type": "code",
   "execution_count": null,
   "id": "9e1ed3d1",
   "metadata": {},
   "outputs": [],
   "source": []
  }
 ],
 "metadata": {
  "kernelspec": {
   "display_name": "Python 3 (ipykernel)",
   "language": "python",
   "name": "python3"
  },
  "language_info": {
   "codemirror_mode": {
    "name": "ipython",
    "version": 3
   },
   "file_extension": ".py",
   "mimetype": "text/x-python",
   "name": "python",
   "nbconvert_exporter": "python",
   "pygments_lexer": "ipython3",
   "version": "3.10.6"
  }
 },
 "nbformat": 4,
 "nbformat_minor": 5
}
