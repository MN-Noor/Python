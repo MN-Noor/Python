{
 "cells": [
  {
   "cell_type": "code",
   "execution_count": 6,
   "id": "6733c992",
   "metadata": {},
   "outputs": [],
   "source": [
    "#Matrix Multiplication"
   ]
  },
  {
   "cell_type": "code",
   "execution_count": 7,
   "id": "1dfb125f",
   "metadata": {},
   "outputs": [],
   "source": [
    "#create matrix by taking input\n",
    "def matrix_creation(row,column):\n",
    "    matrix=[]\n",
    "    for i in range(row):\n",
    "        matrix1=[]\n",
    "        for j in range(column):\n",
    "            element=int(input(\">>\"))\n",
    "            matrix1.append(element)\n",
    "        matrix.append(matrix1)\n",
    "    return(matrix)"
   ]
  },
  {
   "cell_type": "code",
   "execution_count": 9,
   "id": "8bb25ef2",
   "metadata": {},
   "outputs": [
    {
     "name": "stdout",
     "output_type": "stream",
     "text": [
      "Enter the order of Matrix 1\n",
      "no of rows2\n",
      "no of columns2\n",
      "Enter the order of Matrix 2\n",
      "no of rows2\n",
      "no of columns2\n",
      ">>3\n",
      ">>4\n",
      ">>5\n",
      ">>6\n",
      ">>2\n",
      ">>1\n",
      ">>7\n",
      ">>9\n",
      "Matrix 1= [[3, 4], [5, 6]]\n",
      "Matrix 2= [[2, 1], [7, 9]]\n",
      "resultant list\n",
      "[[34, 39], [52, 59]]\n"
     ]
    }
   ],
   "source": [
    "#order of matrix check to have valid multiplication\n",
    "print(\"Enter the order of Matrix 1\")\n",
    "matrix1_row=int(input(\"no of rows\"))\n",
    "matrix1_column=int(input(\"no of columns\"))\n",
    "print(\"Enter the order of Matrix 2\")\n",
    "matrix2_row=int(input(\"no of rows\"))\n",
    "matrix2_column=int(input(\"no of columns\"))\n",
    "#check validity of matrix and create matrix by creating matrix function\n",
    "if matrix2_row==matrix1_column:\n",
    "    matrix1=matrix_creation(matrix1_row,matrix1_column)\n",
    "    matrix2=matrix_creation(matrix2_row,matrix2_column)\n",
    "    print(\"Matrix 1=\",matrix1)\n",
    "    print(\"Matrix 2=\",matrix2)\n",
    "   \n",
    "    result=[]\n",
    "    #matrix multiplication\n",
    "    for l in range(matrix1_row):\n",
    "        rmatrixr=[]\n",
    "        for i in range(matrix2_column):\n",
    "            element=0\n",
    "            for no in range(matrix1_column):\n",
    "                element+=matrix1[l][no]*matrix2[no][i]\n",
    "        \n",
    "            rmatrixr.append(element)\n",
    "        \n",
    "        result.append(rmatrixr)\n",
    "    print(\"resultant list\")\n",
    "    print(result)\n",
    "    \n",
    "else:\n",
    "    print(\"not correct\")\n"
   ]
  }
 ],
 "metadata": {
  "kernelspec": {
   "display_name": "Python 3 (ipykernel)",
   "language": "python",
   "name": "python3"
  },
  "language_info": {
   "codemirror_mode": {
    "name": "ipython",
    "version": 3
   },
   "file_extension": ".py",
   "mimetype": "text/x-python",
   "name": "python",
   "nbconvert_exporter": "python",
   "pygments_lexer": "ipython3",
   "version": "3.10.6"
  }
 },
 "nbformat": 4,
 "nbformat_minor": 5
}
