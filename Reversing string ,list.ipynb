{
 "cells": [
  {
   "cell_type": "code",
   "execution_count": null,
   "id": "a39db45f",
   "metadata": {},
   "outputs": [],
   "source": [
    "list1=[2,4,5,6,3,1,4,7,8,4]\n",
    "r=len(list1)\n",
    "e=r-1\n",
    "for i in range(0,r//2):\n",
    "    dummy=list1[i]\n",
    "    list1[i]=list1[e-i]\n",
    "    list1[e-i]=dummy\n",
    "print(list1)\n",
    " \n",
    "\n",
    "\n",
    "    \n",
    "    "
   ]
  },
  {
   "cell_type": "code",
   "execution_count": null,
   "id": "f22e577b",
   "metadata": {
    "scrolled": true
   },
   "outputs": [],
   "source": [
    "word=input(\"Word =\")\n",
    "i=len((word))\n",
    "for items in word:\n",
    "    i-=1\n",
    "    print(word[i])\n",
    "   \n"
   ]
  }
 ],
 "metadata": {
  "kernelspec": {
   "display_name": "Python 3 (ipykernel)",
   "language": "python",
   "name": "python3"
  },
  "language_info": {
   "codemirror_mode": {
    "name": "ipython",
    "version": 3
   },
   "file_extension": ".py",
   "mimetype": "text/x-python",
   "name": "python",
   "nbconvert_exporter": "python",
   "pygments_lexer": "ipython3",
   "version": "3.10.6"
  }
 },
 "nbformat": 4,
 "nbformat_minor": 5
}
